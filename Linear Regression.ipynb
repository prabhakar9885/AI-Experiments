{
 "cells": [
  {
   "cell_type": "code",
   "execution_count": 1,
   "metadata": {},
   "outputs": [],
   "source": [
    "import numpy as np\n",
    "from matplotlib import pyplot as plt"
   ]
  },
  {
   "cell_type": "markdown",
   "metadata": {},
   "source": [
    "# Data generation"
   ]
  },
  {
   "cell_type": "code",
   "execution_count": 2,
   "metadata": {},
   "outputs": [
    {
     "name": "stdout",
     "output_type": "stream",
     "text": [
      "x: (51, 1)\n",
      "y: (51, 1)\n"
     ]
    }
   ],
   "source": [
    "m = 51\n",
    "x = np.linspace(0,1,m).reshape( (m,1) )\n",
    "y = np.power( 15*x[:], 1.8 ) + 5 - np.random.normal(1, 3,(m,1))\n",
    "print( \"x: {}\".format(x.shape) )\n",
    "print( \"y: {}\".format(y.shape) )"
   ]
  },
  {
   "cell_type": "code",
   "execution_count": 3,
   "metadata": {
    "scrolled": true
   },
   "outputs": [
    {
     "data": {
      "image/png": "[encoded data removed]",
      "text/plain": [
       "<Figure size 432x288 with 1 Axes>"
      ]
     },
     "metadata": {
      "needs_background": "light"
     },
     "output_type": "display_data"
    }
   ],
   "source": [
    "plt.plot(x,y,'o')\n",
    "plt.show()"
   ]
  },
  {
   "cell_type": "markdown",
   "metadata": {},
   "source": [
    "### Create augmented X"
   ]
  },
  {
   "cell_type": "code",
   "execution_count": 4,
   "metadata": {},
   "outputs": [
    {
     "name": "stdout",
     "output_type": "stream",
     "text": [
      "(51, 10)\n"
     ]
    }
   ],
   "source": [
    "x_aug = np.hstack((  \n",
    "    x.reshape(m,1), \n",
    "    np.power(x.reshape(m,1),2), \n",
    "    np.power(x.reshape(m,1),3), \n",
    "    np.power(x.reshape(m,1),4), \n",
    "    np.power(x.reshape(m,1),5), \n",
    "    np.power(x.reshape(m,1),6), \n",
    "    np.power(x.reshape(m,1),7), \n",
    "    np.power(x.reshape(m,1),8), \n",
    "    np.power(x.reshape(m,1),9), \n",
    "    np.ones((m,1)) \n",
    "))\n",
    "print( x_aug.shape )"
   ]
  },
  {
   "cell_type": "markdown",
   "metadata": {},
   "source": [
    "## Initialize Weights"
   ]
  },
  {
   "cell_type": "code",
   "execution_count": 5,
   "metadata": {},
   "outputs": [
    {
     "name": "stdout",
     "output_type": "stream",
     "text": [
      "(10, 1)\n"
     ]
    }
   ],
   "source": [
    "w = np.random.random(( x_aug.shape[1], 1))\n",
    "print( w.shape )"
   ]
  },
  {
   "cell_type": "markdown",
   "metadata": {},
   "source": [
    "## Check if we got the math right"
   ]
  },
  {
   "cell_type": "code",
   "execution_count": 6,
   "metadata": {},
   "outputs": [
    {
     "name": "stdout",
     "output_type": "stream",
     "text": [
      "x_aug: (51, 10)\n",
      "y: (51, 1)\n",
      "y_hat: (51, 1)\n",
      "Loss: 1936.1017928127771\n"
     ]
    }
   ],
   "source": [
    "y_hat = np.matmul( x_aug, w )\n",
    "J = (0.5/m) * np.sum( np.power(( y.reshape((m,1)) - y_hat ),2) )\n",
    "\n",
    "print( \"x_aug: {}\".format(x_aug.shape) )\n",
    "print( \"y: {}\".format(y.shape) )\n",
    "print( \"y_hat: {}\".format(y_hat.shape) )\n",
    "print( \"Loss: {}\".format(J) )"
   ]
  },
  {
   "cell_type": "markdown",
   "metadata": {},
   "source": [
    "# Training"
   ]
  },
  {
   "cell_type": "code",
   "execution_count": 7,
   "metadata": {},
   "outputs": [
    {
     "name": "stdout",
     "output_type": "stream",
     "text": [
      "5000: Error 1057.5320136830458\n",
      "10000: Error 372.40392641880175\n",
      "15000: Error 205.6970287218277\n",
      "20000: Error 165.13353372526458\n",
      "25000: Error 155.26353344892954\n",
      "30000: Error 152.86194291874642\n",
      "35000: Error 152.27758254253735\n",
      "40000: Error 152.13539466954583\n",
      "45000: Error 152.10079719844924\n",
      "50000: Error 152.09237886444453\n",
      "55000: Error 152.09033049659644\n",
      "60000: Error 152.08983208315286\n",
      "65000: Error 152.08971080807962\n",
      "70000: Error 152.08968129915766\n",
      "75000: Error 152.08967411898092\n",
      "80000: Error 152.0896723718842\n",
      "85000: Error 152.08967194677675\n",
      "90000: Error 152.08967184333858\n",
      "95000: Error 152.08967181816985\n"
     ]
    }
   ],
   "source": [
    "epoch = 1;\n",
    "err = 0;\n",
    "lr = 0.0001\n",
    "x_aug[:,0] = (x_aug[:,0] - x_aug[:,0].min()) / (x_aug[:,0].max() - x_aug[:,0].min()) # normalization\n",
    "\n",
    "while( epoch < 100000 ):\n",
    "    y_hat = np.matmul( x_aug, w )\n",
    "    J = (0.5/m) * np.sum( np.power(( y.reshape((m,1)) - y_hat ),2) )\n",
    "\n",
    "    err = np.mean( np.power(y-y_hat,2) )\n",
    "    if( epoch%5000 == 0 ):\n",
    "        print( \"{}: Error {}\".format(epoch, err) )\n",
    "\n",
    "    gradient = -1 * np.average( (y-y_hat)*(x_aug) )\n",
    "#     gradient = np.vstack(( gradient_10, gradient_20 ))\n",
    "\n",
    "    w -= lr * gradient\n",
    "    epoch += 1"
   ]
  },
  {
   "cell_type": "markdown",
   "metadata": {},
   "source": [
    "# Predicting"
   ]
  },
  {
   "cell_type": "code",
   "execution_count": 8,
   "metadata": {},
   "outputs": [],
   "source": [
    "y_pred = np.matmul( x_aug, w )"
   ]
  },
  {
   "cell_type": "code",
   "execution_count": 9,
   "metadata": {},
   "outputs": [
    {
     "data": {
      "image/png": "[encoded data removed]",
      "text/plain": [
       "<Figure size 432x288 with 1 Axes>"
      ]
     },
     "metadata": {
      "needs_background": "light"
     },
     "output_type": "display_data"
    }
   ],
   "source": [
    "plt.plot( x, y_pred, 'go', label=\"Predicted\")\n",
    "plt.plot( x, y, 'ro', label=\"GroundTruth\")\n",
    "plt.legend()\n",
    "plt.show()"
   ]
  }
 ],
 "metadata": {
  "kernelspec": {
   "display_name": "Python 3",
   "language": "python",
   "name": "python3"
  },
  "language_info": {
   "codemirror_mode": {
    "name": "ipython",
    "version": 3
   },
   "file_extension": ".py",
   "mimetype": "text/x-python",
   "name": "python",
   "nbconvert_exporter": "python",
   "pygments_lexer": "ipython3",
   "version": "3.7.4"
  }
 },
 "nbformat": 4,
 "nbformat_minor": 2
}
