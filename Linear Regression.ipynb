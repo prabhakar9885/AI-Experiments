{
 "cells": [
  {
   "cell_type": "code",
   "execution_count": 69,
   "metadata": {},
   "outputs": [],
   "source": [
    "import numpy as np\n",
    "from matplotlib import pyplot as plt"
   ]
  },
  {
   "cell_type": "markdown",
   "metadata": {},
   "source": [
    "# Data generation"
   ]
  },
  {
   "cell_type": "code",
   "execution_count": 92,
   "metadata": {},
   "outputs": [
    {
     "name": "stdout",
     "output_type": "stream",
     "text": [
      "x: (51, 1)\n",
      "y: (51, 1)\n"
     ]
    }
   ],
   "source": [
    "m = 51\n",
    "x = np.linspace(0,1,m).reshape( (m,1) )\n",
    "y = 15*x[:] + 5 + np.random.normal(0,0.5,(m,1))\n",
    "print( \"x: {}\".format(x.shape) )\n",
    "print( \"y: {}\".format(y.shape) )"
   ]
  },
  {
   "cell_type": "code",
   "execution_count": 94,
   "metadata": {
    "scrolled": true
   },
   "outputs": [
    {
     "data": {
      "image/png": "[encoded data removed]",
      "text/plain": [
       "<Figure size 432x288 with 1 Axes>"
      ]
     },
     "metadata": {
      "needs_background": "light"
     },
     "output_type": "display_data"
    }
   ],
   "source": [
    "plt.plot(x,y,'o')\n",
    "plt.show()"
   ]
  },
  {
   "cell_type": "markdown",
   "metadata": {},
   "source": [
    "### Create augmented X"
   ]
  },
  {
   "cell_type": "code",
   "execution_count": 95,
   "metadata": {},
   "outputs": [
    {
     "name": "stdout",
     "output_type": "stream",
     "text": [
      "(51, 2)\n"
     ]
    }
   ],
   "source": [
    "x_aug = np.hstack(( x.reshape(m,1), np.ones((m,1)) ))\n",
    "print( x_aug.shape )"
   ]
  },
  {
   "cell_type": "markdown",
   "metadata": {},
   "source": [
    "## Initialize Weights"
   ]
  },
  {
   "cell_type": "code",
   "execution_count": 198,
   "metadata": {},
   "outputs": [
    {
     "name": "stdout",
     "output_type": "stream",
     "text": [
      "(2, 1)\n"
     ]
    }
   ],
   "source": [
    "w = np.random.random((2,1))\n",
    "print( w.shape )"
   ]
  },
  {
   "cell_type": "markdown",
   "metadata": {},
   "source": [
    "## Check if we got the math right"
   ]
  },
  {
   "cell_type": "code",
   "execution_count": 199,
   "metadata": {},
   "outputs": [
    {
     "name": "stdout",
     "output_type": "stream",
     "text": [
      "x_aug: (51, 2)\n",
      "y: (51, 1)\n",
      "y_hat: (51, 1)\n",
      "Loss: 73.70552913983376\n"
     ]
    }
   ],
   "source": [
    "y_hat = np.matmul( x_aug, w )\n",
    "J = (0.5/m) * np.sum( np.power(( y.reshape((m,1)) - y_hat ),2) )\n",
    "\n",
    "print( \"x_aug: {}\".format(x_aug.shape) )\n",
    "print( \"y: {}\".format(y.shape) )\n",
    "print( \"y_hat: {}\".format(y_hat.shape) )\n",
    "print( \"Loss: {}\".format(J) )"
   ]
  },
  {
   "cell_type": "markdown",
   "metadata": {},
   "source": [
    "# Training"
   ]
  },
  {
   "cell_type": "code",
   "execution_count": 200,
   "metadata": {},
   "outputs": [
    {
     "name": "stdout",
     "output_type": "stream",
     "text": [
      "500: Error 51.299277139128186\n",
      "1000: Error 18.665837803910264\n",
      "1500: Error 7.686010120285967\n",
      "2000: Error 4.061466878261872\n",
      "2500: Error 2.941160823403937\n",
      "3000: Error 2.6797435804762437\n",
      "3500: Error 2.7196812360786167\n",
      "4000: Error 2.8726201907802045\n",
      "4500: Error 3.0755460533843255\n"
     ]
    }
   ],
   "source": [
    "epoch = 1;\n",
    "err = 0;\n",
    "lr = 0.001\n",
    "\n",
    "while( epoch < 5000 ):\n",
    "    y_hat = np.matmul( x_aug, w )\n",
    "    J = (0.5/m) * np.sum( np.power(( y.reshape((m,1)) - y_hat ),2) )\n",
    "\n",
    "    err = np.mean( np.power(y-y_hat,2) )\n",
    "    if( epoch%500 == 0 ):\n",
    "        print( \"{}: Error {}\".format(epoch, err) )\n",
    "\n",
    "    gradient_10 = -1 * np.average( y-y_hat )\n",
    "    gradient_20 = -1 * np.average( (y-y_hat)*(x) )\n",
    "    gradient = np.vstack(( gradient_10, gradient_20 ))\n",
    "\n",
    "    w -= lr * gradient\n",
    "    epoch += 1"
   ]
  },
  {
   "cell_type": "markdown",
   "metadata": {},
   "source": [
    "# Predicting"
   ]
  },
  {
   "cell_type": "code",
   "execution_count": 201,
   "metadata": {},
   "outputs": [],
   "source": [
    "y_pred = np.matmul( x_aug, w )"
   ]
  },
  {
   "cell_type": "code",
   "execution_count": 204,
   "metadata": {},
   "outputs": [
    {
     "data": {
      "image/png": "[encoded data removed]",
      "text/plain": [
       "<Figure size 432x288 with 1 Axes>"
      ]
     },
     "metadata": {
      "needs_background": "light"
     },
     "output_type": "display_data"
    }
   ],
   "source": [
    "plt.plot( x, y_pred, 'go', label=\"Predicted\")\n",
    "plt.plot( x, y, 'ro', label=\"GroundTruth\")\n",
    "plt.legend()\n",
    "plt.show()"
   ]
  }
 ],
 "metadata": {
  "kernelspec": {
   "display_name": "Python 3",
   "language": "python",
   "name": "python3"
  },
  "language_info": {
   "codemirror_mode": {
    "name": "ipython",
    "version": 3
   },
   "file_extension": ".py",
   "mimetype": "text/x-python",
   "name": "python",
   "nbconvert_exporter": "python",
   "pygments_lexer": "ipython3",
   "version": "3.7.4"
  }
 },
 "nbformat": 4,
 "nbformat_minor": 2
}
