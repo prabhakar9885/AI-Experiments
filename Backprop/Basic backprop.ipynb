{
 "cells": [
  {
   "cell_type": "code",
   "execution_count": 1,
   "metadata": {},
   "outputs": [],
   "source": [
    "import torch"
   ]
  },
  {
   "cell_type": "markdown",
   "metadata": {},
   "source": [
    "Reference material: https://jhui.github.io/2018/02/09/PyTorch-Variables-functionals-and-Autograd/"
   ]
  },
  {
   "cell_type": "code",
   "execution_count": 2,
   "metadata": {},
   "outputs": [
    {
     "name": "stdout",
     "output_type": "stream",
     "text": [
      "True\n",
      "tensor([[1., 1.],\n",
      "        [1., 1.]])\n"
     ]
    }
   ],
   "source": [
    "x = torch.ones( (2,2), requires_grad = True )\n",
    "print( x.requires_grad )\n",
    "print( x.data)"
   ]
  },
  {
   "cell_type": "markdown",
   "metadata": {},
   "source": [
    "## Forward"
   ]
  },
  {
   "cell_type": "code",
   "execution_count": 3,
   "metadata": {},
   "outputs": [],
   "source": [
    "y = x+2\n",
    "z = 2*y*y\n",
    "out = z.mean()"
   ]
  },
  {
   "cell_type": "code",
   "execution_count": 4,
   "metadata": {},
   "outputs": [
    {
     "name": "stdout",
     "output_type": "stream",
     "text": [
      "<MeanBackward0 object at 0x1257e1290>\n",
      "((<MulBackward0 object at 0x1257e1450>, 0),)\n",
      "((<MulBackward0 object at 0x1257d6fd0>, 0), (<AddBackward0 object at 0x1257e1490>, 0))\n"
     ]
    }
   ],
   "source": [
    "print( out.grad_fn )\n",
    "print( out.grad_fn.next_functions )\n",
    "print( out.grad_fn.next_functions[0][0].next_functions )"
   ]
  },
  {
   "cell_type": "markdown",
   "metadata": {},
   "source": [
    "## Backward\n",
    "- Computes the gradient"
   ]
  },
  {
   "cell_type": "code",
   "execution_count": 5,
   "metadata": {},
   "outputs": [
    {
     "name": "stdout",
     "output_type": "stream",
     "text": [
      "None\n"
     ]
    }
   ],
   "source": [
    "print( out.backward() )"
   ]
  },
  {
   "cell_type": "code",
   "execution_count": 6,
   "metadata": {},
   "outputs": [
    {
     "name": "stdout",
     "output_type": "stream",
     "text": [
      "tensor([[1., 1.],\n",
      "        [1., 1.]])\n",
      "tensor([[3., 3.],\n",
      "        [3., 3.]])\n"
     ]
    }
   ],
   "source": [
    "print( x.data )\n",
    "print( x.grad )"
   ]
  },
  {
   "cell_type": "code",
   "execution_count": 7,
   "metadata": {},
   "outputs": [
    {
     "name": "stdout",
     "output_type": "stream",
     "text": [
      "tensor([[3., 3.],\n",
      "        [3., 3.]])\n",
      "None\n"
     ]
    }
   ],
   "source": [
    "print( y.data )\n",
    "print( y.grad )"
   ]
  },
  {
   "cell_type": "code",
   "execution_count": 8,
   "metadata": {},
   "outputs": [
    {
     "name": "stdout",
     "output_type": "stream",
     "text": [
      "tensor([[18., 18.],\n",
      "        [18., 18.]])\n",
      "None\n"
     ]
    }
   ],
   "source": [
    "print( z.data )\n",
    "print( z.grad )"
   ]
  },
  {
   "cell_type": "code",
   "execution_count": 9,
   "metadata": {},
   "outputs": [
    {
     "name": "stdout",
     "output_type": "stream",
     "text": [
      "tensor(18.)\n",
      "None\n"
     ]
    }
   ],
   "source": [
    "print( out.data )\n",
    "print( out.grad )"
   ]
  },
  {
   "cell_type": "markdown",
   "metadata": {},
   "source": [
    "## Quick Backprop "
   ]
  },
  {
   "cell_type": "markdown",
   "metadata": {},
   "source": [
    "### Params"
   ]
  },
  {
   "cell_type": "code",
   "execution_count": 10,
   "metadata": {},
   "outputs": [],
   "source": [
    "N = 64        # number of samples\n",
    "H = 100       # hidden layer size\n",
    "D_in = 1000   # input dimensionality \n",
    "D_out = 10    # output dimensionality \n",
    "learning_rate = 1e-6"
   ]
  },
  {
   "cell_type": "markdown",
   "metadata": {},
   "source": [
    "### Initialize \n",
    "<img src=\"./NN-labelled.png\" />"
   ]
  },
  {
   "cell_type": "code",
   "execution_count": 11,
   "metadata": {},
   "outputs": [],
   "source": [
    "x  = torch.randn( (N,D_in), requires_grad=True)\n",
    "\n",
    "w10 = torch.randn( (D_in,H), requires_grad=True)\n",
    "w21 = torch.randn( (H,D_out), requires_grad=True)\n",
    "\n",
    "y = torch.randn( (N, D_out), requires_grad=True)"
   ]
  },
  {
   "cell_type": "markdown",
   "metadata": {},
   "source": [
    "Start Training"
   ]
  },
  {
   "cell_type": "code",
   "execution_count": 12,
   "metadata": {},
   "outputs": [
    {
     "name": "stdout",
     "output_type": "stream",
     "text": [
      "epoch:0 loss:22917328.0\n",
      "epoch:100 loss:315.5669250488281\n",
      "epoch:200 loss:1.3498003482818604\n",
      "epoch:300 loss:0.009448150172829628\n",
      "epoch:400 loss:0.00020994539954699576\n"
     ]
    }
   ],
   "source": [
    "for epoch in range(500):\n",
    "    \n",
    "    y_pred = x.mm(w10).clamp(min=0).mm(w21)\n",
    "    loss = (y_pred - y).pow(2).sum()\n",
    "    \n",
    "    if( epoch %100 == 0 ):\n",
    "        print( \"epoch:{} loss:{}\".format(epoch,loss) )\n",
    "    \n",
    "    loss.backward();\n",
    "    \n",
    "    w10.data -= learning_rate * w10.grad.data\n",
    "    w21.data -= learning_rate * w21.grad.data\n",
    "    \n",
    "    w10.grad.data.zero_()\n",
    "    w21.grad.data.zero_()"
   ]
  },
  {
   "cell_type": "markdown",
   "metadata": {},
   "source": [
    "Verify the trained model"
   ]
  },
  {
   "cell_type": "code",
   "execution_count": 13,
   "metadata": {},
   "outputs": [
    {
     "name": "stdout",
     "output_type": "stream",
     "text": [
      "torch.Size([1, 1000])\n",
      "torch.Size([1000, 100])\n",
      "torch.Size([100, 10])\n",
      "torch.Size([10, 1])\n"
     ]
    }
   ],
   "source": [
    "import random\n",
    "index = random.randint(0, x.shape[0]);\n",
    "X_test = x[index].reshape((1,-1))\n",
    "Y_test = y[index].reshape((-1,1))\n",
    "\n",
    "print( X_test.shape )\n",
    "print( w10.shape )\n",
    "print( w21.shape )\n",
    "print( Y_test.shape )"
   ]
  },
  {
   "cell_type": "code",
   "execution_count": 14,
   "metadata": {},
   "outputs": [],
   "source": [
    "y_pred = X_test.mm(w10).clamp(min=0).mm(w21)"
   ]
  },
  {
   "cell_type": "code",
   "execution_count": 15,
   "metadata": {},
   "outputs": [
    {
     "name": "stdout",
     "output_type": "stream",
     "text": [
      "tensor([[ 0.8771],\n",
      "        [ 0.3966],\n",
      "        [-0.3747],\n",
      "        [-1.5237],\n",
      "        [ 0.6698],\n",
      "        [ 0.4046],\n",
      "        [ 0.5886],\n",
      "        [ 1.6233],\n",
      "        [ 0.5813],\n",
      "        [-0.4827]])\n",
      "tensor([[ 0.8771],\n",
      "        [ 0.3969],\n",
      "        [-0.3752],\n",
      "        [-1.5226],\n",
      "        [ 0.6698],\n",
      "        [ 0.4047],\n",
      "        [ 0.5882],\n",
      "        [ 1.6234],\n",
      "        [ 0.5814],\n",
      "        [-0.4829]])\n"
     ]
    }
   ],
   "source": [
    "print( y_pred[0].data.reshape(-1,1) )\n",
    "print( Y_test.data )"
   ]
  }
 ],
 "metadata": {
  "kernelspec": {
   "display_name": "Python 3",
   "language": "python",
   "name": "python3"
  },
  "language_info": {
   "codemirror_mode": {
    "name": "ipython",
    "version": 3
   },
   "file_extension": ".py",
   "mimetype": "text/x-python",
   "name": "python",
   "nbconvert_exporter": "python",
   "pygments_lexer": "ipython3",
   "version": "3.7.4"
  }
 },
 "nbformat": 4,
 "nbformat_minor": 2
}
